{
 "cells": [
  {
   "cell_type": "markdown",
   "metadata": {},
   "source": [
    "# Dokumentasi Kivy\n",
    "\n",
    "## Definisi Kivy\n",
    "<img src=\"https://www.abiraf.com/media/original_images/kivy13-featured.jpg\" width=\"75%\">\n",
    "Kivy adalah GUI/NUI framework yang menggunakan bahasa pemrograman Python, dapat dijalankan pada Windows, Linux, OS X, Android dan iOS dengan menggunakan code yang sama dan menggunakan MIT license sehingga 100% free to use dan boleh dikomersialisasikan. Kivy didesain untuk membantu pembuatan dan pengembangan aplikasi cross-platform secara cepat.\n",
    "\n",
    "## Cara Instalasi Kivy\n",
    "Pastikan perangkat anda terhubung dengan internet, lalu buka cmd dengan cara tekan tombol <b>Windows + R</b> ketik <b><i>cmd</i></b> lalu tekan enter.\n",
    "\n",
    "Pada tampilan cmd silahkan anda ketik per baris dan tekan enter. Tunggu proses hingga selesai lalu ketikkan baris selanjutnya dan tekan enter dan seterusnya hingga baris perintah terakhir.\n",
    "\n",
    "<img src=\"image/Screenshot_146.png\">"
   ]
  },
  {
   "cell_type": "markdown",
   "metadata": {},
   "source": [
    "Untuk memastikan bahwa kivy telah terinstal dengan baik, ketik <b>python</b> lalu tekan enter. Kemudian ketikkan baris perintah berikut"
   ]
  },
  {
   "cell_type": "code",
   "execution_count": null,
   "metadata": {},
   "outputs": [],
   "source": [
    "import kivy"
   ]
  },
  {
   "cell_type": "markdown",
   "metadata": {},
   "source": [
    "Jika kivy sudah terinstal, maka akan muncul tampilan seperti berikut:\n",
    "<img src=\"https://steemitimages.com/640x0/https://steemitimages.com/DQmV5euNvVsJY1cthasGQH5tzEan5exiTqnwYrXqQ54bFQN/6.JPG\">\n",
    "\n",
    "Namun, sebaliknya jika belum terinstal dengan baik akan muncul tampilan error seperti ini:\n",
    "<img src=\"https://steemitimages.com/DQmbpDqpzcvVvqPkWEC6gj5hwfJwP9FAVVGTaSZkiPzswUx/7.JPG\">\n",
    "Cara memperbaikinya adalah melakukan proses instalasi dari awal."
   ]
  },
  {
   "cell_type": "markdown",
   "metadata": {},
   "source": [
    "## Penjelasan Class yang Digunakan\n",
    "\n",
    "Pada project ini hanya menggunakan dua class, yaitu class Piano dan class PianoApp.\n",
    "\n",
    "<img src=\"image/Screenshot_147.png\">"
   ]
  },
  {
   "cell_type": "markdown",
   "metadata": {},
   "source": [
    "Class Piano memiliki 7 method yaitu: \n",
    "1. make_buttons() berfungsi untuk membuat tombol-tombol pada piano\n",
    "2. is_pressed() berfungsi untuk mengecek tombol yang ditekan dengan cara diklik\n",
    "3. callback() berfungsi untuk mengecek tombol yang ditekan menggunakan keyboard\n",
    "4. Sound() berfungsi untuk membunyikan not piano\n",
    "5. my_callback() berfungsi untuk mengubah warna tombol saat ditekan dengan diklik maupun dengan keyboard\n",
    "6. \\_keyboard\\_closed() berfungsi agar aplikasi dapat menerima input/perintah dari keyboard\n",
    "7. \\_on\\_keyboard_down() berfungsi untuk mengatur kondisi saat keyboard ditekan\n",
    "\n",
    "Class PianoApp memiliki 1 method saja, yaitu build() yang berfungsi untuk membangun aplikasi agar dapat dijalankan."
   ]
  },
  {
   "cell_type": "markdown",
   "metadata": {},
   "source": [
    "## Konsep OOP\n",
    "\n",
    "Di dalam Kivy sendiri sebenarnya telah terdapat banyak class yang membantu dalam proses developing GUI App. Penggunaannya yaitu dengan <b>konsep Pewarisan/Inheritance</b>. Seperti pada contoh di atas, class Piano meng-inherit class GridLayout pada Kivy agar tampilan berupa Grid (berkolom) serta class PianoApp yang meng-inherit class App yang berfungsi untuk membentuk sebuah aplikasi yang dapat dijalankan.\n",
    "<img src=\"image/Screenshot_140.png\">\n",
    "<img src=\"image/Screenshot_143.png\">\n",
    "\n",
    "Berikut ini modul-modul yang di-import dari kivy:"
   ]
  },
  {
   "cell_type": "code",
   "execution_count": null,
   "metadata": {},
   "outputs": [],
   "source": [
    "from kivy.app import App\n",
    "from kivy.core.audio import SoundLoader\n",
    "from kivy.core.window import Window\n",
    "\n",
    "from kivy.uix.gridlayout import GridLayout\n",
    "from kivy.uix.button import Button\n",
    "from kivy.properties import Clock"
   ]
  },
  {
   "cell_type": "markdown",
   "metadata": {},
   "source": [
    "## Screenshot Program\n",
    "\n",
    "<img src=\"image/Screenshot_144.png\">\n",
    "\n",
    "<a href=\"https://github.com/yusufsugiono/project-PBO/blob/master/Kivy-Piano/Piano.py\">VIEW FULL SOURCE CODE</a>"
   ]
  }
 ],
 "metadata": {
  "kernelspec": {
   "display_name": "Python 3",
   "language": "python",
   "name": "python3"
  },
  "language_info": {
   "codemirror_mode": {
    "name": "ipython",
    "version": 3
   },
   "file_extension": ".py",
   "mimetype": "text/x-python",
   "name": "python",
   "nbconvert_exporter": "python",
   "pygments_lexer": "ipython3",
   "version": "3.7.1"
  }
 },
 "nbformat": 4,
 "nbformat_minor": 2
}
