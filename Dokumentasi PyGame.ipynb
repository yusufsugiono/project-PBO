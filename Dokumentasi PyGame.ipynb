{
 "cells": [
  {
   "cell_type": "markdown",
   "metadata": {},
   "source": [
    "# Dokumentasi PyGame\n",
    "\n",
    "## Definisi Pygame\n",
    "\n",
    "<img src=\"https://4.bp.blogspot.com/-a16W0fEEefA/WNFdWR1_V3I/AAAAAAAAARQ/R7r5YfI3EXgY456mxDxQY75fdcDizlb1QCK4B/s400/pygame.jpg\">\n",
    "Pygame adalah seperangkat modul Python yang dirancang untuk membuat permainan. Pygame menambahkan fungsi di atas dengan sangat baik di SDL Library. Hal ini memungkinkan Anda untuk membuat sebuah game dengan fitur yang lengkap dan sebuah program multimedia dalam bahasa python. Pygame sangat portabel dan dapat berjalan pada hampir semua platform dan sistem operasi. Pygame sendiri telah didownload jutaan kali, dan telah memiliki jutaan kunjungan ke situsnya.\n",
    "Pygame bersifat gratis dan dirilis di bawah Lisensi GPL , Anda dapat membuat sebuah aplikasi yang open source, gratis, freeware, shareware, dan game komersial dengan pygame ini."
   ]
  },
  {
   "cell_type": "markdown",
   "metadata": {},
   "source": [
    "## Cara Instalasi PyGame\n",
    "\n",
    "Pastikan perangkat anda terhubung dengan internet, lalu buka cmd dengan cara tekan tombol <b>Windows + R</b> ketik <b><i>cmd</i></b> lalu tekan enter.\n",
    "\n",
    "Pada tampilan cmd silahkan anda ketik <b>pip install pygame</b> lalu tekan enter. Tunggu proses instal hingga selesai.\n",
    "\n",
    "<img src=\"image/Screenshot_151.png\">"
   ]
  },
  {
   "cell_type": "markdown",
   "metadata": {},
   "source": [
    "## Struktur Class dan Penjelasan\n",
    "\n",
    "<img src=\"image/Screenshot_152.png\">\n",
    "\n",
    "Pada project ini hanya menggunakan 2 class saja, yaitu class Paddle dan class Ball.\n",
    "\n",
    "Class Paddle berfungsi untuk mengatur atau mengendalikan paddle oleh pemain. Di dalam class ini terdapat 2 method, yaitu:\n",
    "1. draw_text() berfungsi untuk menampilkan teks saat bola terlewat oleh paddle.\n",
    "2. update() berfungsi untuk update tampilan/frame setiap ada objek yang bergerak.\n",
    "\n",
    "Class Ball berfungsi untuk mengatur bola dan pergerakannya. Di dalam class ini hanya ada 1 method, yaitu:\n",
    "1. update() berfungsi untuk update tampilan/frame saat bola bergerak."
   ]
  },
  {
   "cell_type": "code",
   "execution_count": null,
   "metadata": {},
   "outputs": [],
   "source": []
  }
 ],
 "metadata": {
  "kernelspec": {
   "display_name": "Python 3",
   "language": "python",
   "name": "python3"
  },
  "language_info": {
   "codemirror_mode": {
    "name": "ipython",
    "version": 3
   },
   "file_extension": ".py",
   "mimetype": "text/x-python",
   "name": "python",
   "nbconvert_exporter": "python",
   "pygments_lexer": "ipython3",
   "version": "3.7.1"
  }
 },
 "nbformat": 4,
 "nbformat_minor": 2
}
